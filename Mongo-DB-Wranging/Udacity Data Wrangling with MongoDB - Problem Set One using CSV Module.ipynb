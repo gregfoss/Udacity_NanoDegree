
Udacity Project Two - Problem Set 1 - Using CSV
In [62]:

import csv
import os
​
DATADIR = ""
DATAFILE = "745090.csv"
​
​
def parse_file(datafile):
    data = []
    with open(datafile,'rb') as f:
        reader_tool = csv.reader(f)
        name = reader_tool.next()[1]
        skip = list(reader_tool.next())
        for row in reader_tool:
            data.append(row)
        
#        data = [list(row) for row in reader_tool]
#        counter = 0
#        for row in reader_tool: 
#            if counter > 0: 
#                data.append(row)
​
#        header = f.readline().split(",")
#        name = header[1]
#        counter = 0
#        for line in f: 
#            if counter > 0:
#                fields = line.split(",")
#                data.append(fields)
​
#    print name
#    print data
    return (name, data)
​
​
def test():
    datafile = os.path.join(DATADIR, DATAFILE)
    name, data = parse_file(datafile)
​
    assert name == "MOUNTAIN VIEW MOFFETT FLD NAS"
    assert data[0][1] == "01:00"
    assert data[2][0] == "01/01/2005"
    assert data[2][5] == "2"
​
​
if __name__ == "__main__":
    test()
In [63]:

name
Out[63]:
'"MOUNTAIN VIEW MOFFETT FLD NAS"'
In [64]:

data
Out[64]:
[]
In [53]:

sequence 
Out[53]:
['01/05/2005',
 '02:00',
 '0',
 '0',
 '0',
 '2',
 '0',
 '0',
 '2',
 '0',
 '0',
 '2',
 '0',
 '0',
 '2',
 '0',
 '0',
 '2',
 '0',
 '0',
 '2',
 '0',
 '0',
 '2',
 '0',
 '10',
 'E',
 '9',
 '10',
 'E',
 '9',
 '8.0',
 'A',
 '7',
 '6.0',
 'A',
 '7',
 '87',
 'A',
 '7',
 '1017',
 'A',
 '7',
 '140',
 'A',
 '7',
 '3.6',
 'A',
 '7',
 '16100',
 'A',
 '7',
 '2100',
 'A',
 '7',
 '1.1',
 'E',
 '8',
 '0.099',
 'F',
 '8',
 '0.160',
 'F',
 '8',
 '-9900',
 '-9900',
 '?',
 '0\n']
